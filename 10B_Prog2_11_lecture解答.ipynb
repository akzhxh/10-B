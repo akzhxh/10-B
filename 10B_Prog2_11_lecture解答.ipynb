{
  "nbformat": 4,
  "nbformat_minor": 0,
  "metadata": {
    "colab": {
      "provenance": [],
      "include_colab_link": true
    },
    "kernelspec": {
      "name": "python3",
      "display_name": "Python 3"
    },
    "language_info": {
      "name": "python"
    }
  },
  "cells": [
    {
      "cell_type": "markdown",
      "metadata": {
        "id": "view-in-github",
        "colab_type": "text"
      },
      "source": [
        "<a href=\"https://colab.research.google.com/github/akzhxh/10-B/blob/main/10B_Prog2_11_lecture%E8%A7%A3%E7%AD%94.ipynb\" target=\"_parent\"><img src=\"https://colab.research.google.com/assets/colab-badge.svg\" alt=\"Open In Colab\"/></a>"
      ]
    },
    {
      "cell_type": "markdown",
      "source": [
        "# 使い方\n",
        "グループワーク用のひな形です．ドライブにコピーをして保存後，ファイル名を変更して使用してください．必要に応じて，コードやコメントのセルを追加して使用してください．\n",
        "\n",
        "この使い方のテキストのセルや各セルのコメントは削除して，使用してください．"
      ],
      "metadata": {
        "id": "rJhDTipMPFGh"
      }
    },
    {
      "cell_type": "markdown",
      "source": [
        "# はじめに\n",
        "\n",
        "ここに自分の班-グループ番号と学籍番号，氏名，同じグループの学生の学籍番号と氏名を記入してください．"
      ],
      "metadata": {
        "id": "cwIfC0QZQEZa"
      }
    },
    {
      "cell_type": "markdown",
      "source": [
        "# 問題1（初級）\n",
        "\n",
        "\n",
        "次の計算結果を示しなさい．\n",
        "\n",
        "$y = \\sin(2π)$\n",
        "\n",
        "$y = \\sin(2π)+\\cos(0)$\n"
      ],
      "metadata": {
        "id": "vJuD8pFRFZYI"
      }
    },
    {
      "cell_type": "code",
      "execution_count": null,
      "metadata": {
        "id": "OwHmC1mnFRKN",
        "outputId": "9ec21795-a201-40fb-95df-bfb931848a8f",
        "colab": {
          "base_uri": "https://localhost:8080/"
        }
      },
      "outputs": [
        {
          "output_type": "stream",
          "name": "stdout",
          "text": [
            "-2.4492935982947064e-16\n",
            "0.9999999999999998\n"
          ]
        }
      ],
      "source": [
        "# ここに解答または解答例を記入する\n",
        "import numpy as np\n",
        "y1 = np.sin(2*np.pi)\n",
        "y2 = np.sin(2*np.pi)+np.cos(0)\n",
        "print(y1)\n",
        "print(y2)"
      ]
    },
    {
      "cell_type": "markdown",
      "source": [
        "## 問題1解説\n",
        "解説はここに記入する．\n",
        "\n",
        "* 解説の執筆者の氏名を問題末尾に記入して下さい．複数人で作成した場合は連名で構いません．\n",
        "\n",
        "* 相手グループに問題を渡すときには，このファイルのコピーを作成し，解答例や解説を削除した上で，取得したリンクを共有する．"
      ],
      "metadata": {
        "id": "kal4elnlL_qX"
      }
    },
    {
      "cell_type": "markdown",
      "source": [
        "---\n",
        "# 問題2（中級）\n",
        "\n",
        "ここに問題を記入する．\n",
        "\n",
        "* 問題提案者の氏名を問題末尾に記入して下さい．複数人で作成した場合は連名で構いません．"
      ],
      "metadata": {
        "id": "Emsxxb6mFxPK"
      }
    },
    {
      "cell_type": "code",
      "source": [
        "# ここに解答または解答例を記入する\n",
        "\n"
      ],
      "metadata": {
        "id": "CRXOJbsYFyUX"
      },
      "execution_count": null,
      "outputs": []
    },
    {
      "cell_type": "markdown",
      "source": [
        "## 問題2解説\n",
        "解説はここに記入する．\n",
        "\n",
        "* 解説の執筆者の氏名を問題末尾に記入して下さい．複数人で作成した場合は連名で構いません．\n",
        "\n",
        "* 相手グループに問題を渡すときには，このファイルのコピーを作成し，解答例や解説を削除した上で，取得したリンクを共有する．"
      ],
      "metadata": {
        "id": "KiOvfBs2MfOW"
      }
    },
    {
      "cell_type": "markdown",
      "source": [
        "---\n",
        "# 問題3（上級）\n",
        "\n",
        "ここに問題を記入する．\n",
        "\n",
        "* 問題提案者の氏名を問題末尾に記入して下さい．複数人で作成した場合は連名で構いません．"
      ],
      "metadata": {
        "id": "YbyVRA8RFxcM"
      }
    },
    {
      "cell_type": "code",
      "source": [
        "# ここに解答または解答例を記入する\n",
        "\n"
      ],
      "metadata": {
        "id": "k8lP75XSFzKH"
      },
      "execution_count": null,
      "outputs": []
    },
    {
      "cell_type": "markdown",
      "source": [
        "## 問題3解説\n",
        "解説はここに記入する．\n",
        "\n",
        "* 解説の執筆者の氏名を問題末尾に記入して下さい．複数人で作成した場合は連名で構いません．\n",
        "\n",
        "* 相手グループに問題を渡すときには，このファイルのコピーを作成し，解答例や解説を削除した上で，取得したリンクを共有する．"
      ],
      "metadata": {
        "id": "xTMQ7LZxMmTb"
      }
    },
    {
      "cell_type": "markdown",
      "source": [
        "---\n",
        "# 質問1（課題作成者（グループ）として回答，要署名）\n",
        "\n",
        "作成した問題をどのように考えて初級・中級・上級に割り当てたか，その理由を回答欄に記入すること．"
      ],
      "metadata": {
        "id": "ghA1unOrZPz8"
      }
    },
    {
      "cell_type": "markdown",
      "source": [
        "## 回答欄（質問1）\n",
        "\n",
        "ここに質問1の回答を記入して下さい．\n",
        "\n",
        "* 回答作成者の氏名を末尾に記入して下さい．複数人で作成した場合は連名で構いません．"
      ],
      "metadata": {
        "id": "aNL_ZQ68Zsh8"
      }
    },
    {
      "cell_type": "markdown",
      "source": [
        "---\n",
        "# 質問2（相手の課題への解答者（個人）として回答）\n",
        "\n",
        "問題1～3を解答して，勉強になった点や身に付いた点などを回答欄に記入すること．"
      ],
      "metadata": {
        "id": "w8gdv8SRorcA"
      }
    },
    {
      "cell_type": "markdown",
      "source": [
        "## 回答欄（質問2）\n",
        "\n",
        "ここに質問2の回答を記入して下さい．"
      ],
      "metadata": {
        "id": "9Zqiw6TNpn3Q"
      }
    },
    {
      "cell_type": "markdown",
      "source": [
        "---\n",
        "# 注意事項　提出について\n",
        "以下の手順で提出すること．\n",
        "\n",
        "* メニューの「ファイル」-「ドライブにコピーを保存」を選択し，自分のGoogleドライブに課題を保存する．\n",
        "* メニューの「ファイル」-「ダウンロード」-「.ipynbファイルをダウンロード」を選択し，提出用ファイル(例えばProg2_GroupWork.ipynb)をダウンロードする．\n",
        "* ファイル名を次のように変更する．ファイル名にはプログラミングIIの週の数字を入れること．例えば，11週であれば以下のように指定する．\n",
        "1. 相手グループの問題を解答したファイルは，「(学籍番号)-Prog2_11_kadai.ipynb」\n",
        "2. 自分のグループで作成した問題と解説のファイルは「(学籍番号)-Prog2_11_lecture.ipynb」\n",
        "* WebClassの所定の場所で提出する．上記1と2のファイルの提出先が異なるので，注意すること．\n",
        "* 個人で提出する上記1，2以外に，グループの代表者のみが2のファイルをグループメンバーで１つにまとめたファイルを提出する必要があるので忘れないでください．ファイル名は(班番号)-Prog2_11_lecture.ipynbとする．例えば，12週の内容で10班A\n",
        "グループであれば，10A-Prog2_12_lecture.ipynbとする．"
      ],
      "metadata": {
        "id": "HHn948WCNHn3"
      }
    }
  ]
}