{
  "nbformat": 4,
  "nbformat_minor": 0,
  "metadata": {
    "colab": {
      "provenance": [],
      "include_colab_link": true
    },
    "kernelspec": {
      "name": "python3",
      "display_name": "Python 3"
    },
    "language_info": {
      "name": "python"
    }
  },
  "cells": [
    {
      "cell_type": "markdown",
      "metadata": {
        "id": "view-in-github",
        "colab_type": "text"
      },
      "source": [
        "<a href=\"https://colab.research.google.com/github/akzhxh/10-B/blob/main/10B_Prog2_11_lecture%E8%A7%A3%E7%AD%94.ipynb\" target=\"_parent\"><img src=\"https://colab.research.google.com/assets/colab-badge.svg\" alt=\"Open In Colab\"/></a>"
      ]
    },
    {
      "cell_type": "markdown",
      "source": [
        "# 使い方\n",
        "グループワーク用のひな形です．ドライブにコピーをして保存後，ファイル名を変更して使用してください．必要に応じて，コードやコメントのセルを追加して使用してください．\n",
        "\n",
        "この使い方のテキストのセルや各セルのコメントは削除して，使用してください．"
      ],
      "metadata": {
        "id": "rJhDTipMPFGh"
      }
    },
    {
      "cell_type": "markdown",
      "source": [
        "# はじめに\n",
        "\n",
        "\n",
        "$10B$\n",
        "\n",
        "$2220114:瀬戸真琴$\n",
        "\n",
        "$2220175:古谷颯大$"
      ],
      "metadata": {
        "id": "cwIfC0QZQEZa"
      }
    },
    {
      "cell_type": "markdown",
      "source": [
        "# 問題1（初級）\n",
        "\n",
        "\n",
        "次の計算結果を示しなさい．\n",
        "\n",
        "\n",
        "$sin0+cosπ$"
      ],
      "metadata": {
        "id": "vJuD8pFRFZYI"
      }
    },
    {
      "cell_type": "code",
      "execution_count": 1,
      "metadata": {
        "id": "OwHmC1mnFRKN",
        "outputId": "5924e1ba-e069-4408-95d6-4ab4372be3bc",
        "colab": {
          "base_uri": "https://localhost:8080/"
        }
      },
      "outputs": [
        {
          "output_type": "stream",
          "name": "stdout",
          "text": [
            "-1.0\n"
          ]
        }
      ],
      "source": [
        "# ここに解答または解答例を記入する\n",
        "import numpy as np\n",
        "y1 = np.sin(0)+np.cos(np.pi)\n",
        "print(y1)"
      ]
    },
    {
      "cell_type": "markdown",
      "source": [
        "## 問題1解説\n",
        "\n",
        "sin、cosの計算にnumpyライブラリーを用いる。\n",
        "\n",
        "瀬戸 真琴\n"
      ],
      "metadata": {
        "id": "kal4elnlL_qX"
      }
    },
    {
      "cell_type": "markdown",
      "source": [
        "---\n",
        "# 問題2（中級）\n",
        "\n",
        "\n",
        "$sinx+cosxを0≦x≦2πの範囲で図示せよ。$\n"
      ],
      "metadata": {
        "id": "Emsxxb6mFxPK"
      }
    },
    {
      "cell_type": "code",
      "source": [
        "# ここに解答または解答例を記入する\n",
        "import numpy as np\n",
        "import matplotlib.pyplot as plt\n",
        "\n",
        "t = np.linspace(0,2*np.pi,1000)\n",
        "\n",
        "y = np.sin(t)+np.cos(t)\n",
        "\n",
        "plt.plot(t,y)\n",
        "plt.show()"
      ],
      "metadata": {
        "id": "CRXOJbsYFyUX",
        "colab": {
          "base_uri": "https://localhost:8080/",
          "height": 283
        },
        "outputId": "e2b81d8a-4722-4489-db37-b973b7a1a1e3"
      },
      "execution_count": 5,
      "outputs": [
        {
          "output_type": "stream",
          "name": "stdout",
          "text": [
            "<class 'numpy.ndarray'>\n"
          ]
        },
        {
          "output_type": "display_data",
          "data": {
            "text/plain": [
              "<Figure size 432x288 with 1 Axes>"
            ],
            "image/png": "[encoded data removed]"
          },
          "metadata": {
            "needs_background": "light"
          }
        }
      ]
    },
    {
      "cell_type": "markdown",
      "source": [
        "## 問題2解説\n",
        "\n",
        "$tに0から2πを1000分割する。計算して下２行でグラフに表す。\n",
        "\n",
        "瀬戸真琴\n"
      ],
      "metadata": {
        "id": "KiOvfBs2MfOW"
      }
    },
    {
      "cell_type": "markdown",
      "source": [
        "---\n",
        "# 問題3（上級）\n",
        "　\n",
        "$タートル関数を用いてクリスマスツリーを自由に書いてください。$"
      ],
      "metadata": {
        "id": "YbyVRA8RFxcM"
      }
    },
    {
      "cell_type": "code",
      "source": [
        "# turtle をColab環境で利用できるようにするため，Colabファイルを開いたときに一度だけ実行する\n",
        "!pip3 install ColabTurtlePlus\n",
        "\n",
        "# 各プログラムの先頭に以下のimport文を書いてください．\n",
        "from ColabTurtlePlus.Turtle import *"
      ],
      "metadata": {
        "id": "oAlLtPDLzida",
        "colab": {
          "base_uri": "https://localhost:8080/"
        },
        "outputId": "8df19b47-9ee9-4a14-98a1-04a5471cac18"
      },
      "execution_count": 6,
      "outputs": [
        {
          "output_type": "stream",
          "name": "stdout",
          "text": [
            "Looking in indexes: https://pypi.org/simple, https://us-python.pkg.dev/colab-wheels/public/simple/\n",
            "Collecting ColabTurtlePlus\n",
            "  Downloading ColabTurtlePlus-2.0.1-py3-none-any.whl (31 kB)\n",
            "Installing collected packages: ColabTurtlePlus\n",
            "Successfully installed ColabTurtlePlus-2.0.1\n",
            "Put clearscreen() as the first line in a cell (after the import command) to re-run turtle commands in the cell\n"
          ]
        }
      ]
    },
    {
      "cell_type": "code",
      "source": [
        "# ここに解答または解答例を記入する\n",
        "from ColabTurtlePlus.Turtle import *\n",
        "\n",
        "\n",
        "clearscreen()\n",
        "setup(330,350)\n",
        "\n",
        "turtle1 = Turtle()\n",
        "turtle1.shape(\"turtle\")\n",
        "turtle1.speed(10)\n",
        "\n",
        "turtle1.pencolor('brown')\n",
        "turtle1.pu()\n",
        "turtle1.goto(-25,-90)\n",
        "turtle1.pd()\n",
        "turtle1.fillcolor('brown')\n",
        "turtle1.begin_fill()\n",
        "for n in range(4):\n",
        "  turtle1.forward(50)\n",
        "  turtle1.right(90)\n",
        "turtle1.end_fill()\n",
        "\n",
        "turtle1.goto(0,-90)\n",
        "turtle1.pencolor('green')\n",
        "turtle1.fillcolor('green')\n",
        "m = 100\n",
        "i = 0\n",
        "s = m/2\n",
        "turtle1.begin_fill()\n",
        "turtle1.forward(m)\n",
        "turtle1.left(130)\n",
        "turtle1.forward(m)\n",
        "turtle1.right(130)\n",
        "def migigawa(turtle1,m,s,i):\n",
        "  if i <2:\n",
        "    turtle1.forward(s)\n",
        "    turtle1.left(130)\n",
        "    turtle1.forward(m)\n",
        "    turtle1.right(130)\n",
        "    i += 1\n",
        "    migigawa(turtle1,m,s,i)\n",
        "migigawa(turtle1,m,s,i)\n",
        "x = turtle1.getx()   \n",
        "y = turtle1.gety()\n",
        "\n",
        "turtle1.pu()\n",
        "turtle1.goto(0,-90)\n",
        "turtle1.pd()\n",
        "turtle1.left(180)\n",
        "turtle1.forward(m)\n",
        "turtle1.right(130)\n",
        "turtle1.forward(m)\n",
        "turtle1.left(130)\n",
        "def hidarigawa(turtle1,m,s,i):\n",
        "  if i <2:\n",
        "    turtle1.forward(s)\n",
        "    turtle1.right(130)\n",
        "    turtle1.forward(m)\n",
        "    turtle1.left(130)\n",
        "    i += 1\n",
        "    hidarigawa(turtle1,m,s,i)\n",
        "hidarigawa(turtle1,m,s,i)  \n",
        "turtle1.goto(x,y) \n",
        "turtle1.end_fill()\n",
        "\n",
        "turtle1.pu()\n",
        "turtle1.goto(x+9,y-20)\n",
        "turtle1.pencolor('yellow')\n",
        "turtle1.fillcolor('yellow')\n",
        "turtle1.pd()\n",
        "turtle1.begin_fill()\n",
        "turtle1.right(72)\n",
        "for i in range(5):\n",
        "  turtle1.forward(21)\n",
        "  turtle1.right(72)\n",
        "  turtle1.forward(21)\n",
        "  turtle1.left(144)\n",
        "turtle1.end_fill()\n",
        "turtle1.pu()\n",
        "turtle1.goto(400,400)\n",
        "turtle1.pd()\n"
      ],
      "metadata": {
        "id": "k8lP75XSFzKH",
        "colab": {
          "base_uri": "https://localhost:8080/",
          "height": 370
        },
        "outputId": "b4cce68f-4cce-4b23-adc9-bc44eb1f834a"
      },
      "execution_count": 75,
      "outputs": [
        {
          "output_type": "display_data",
          "data": {
            "text/plain": [
              "<IPython.core.display.HTML object>"
            ],
            "text/html": [
              "\n",
              "      <svg width=\"330\" height=\"350\">  \n",
              "        <rect width=\"100%\" height=\"100%\" style=\"fill:white;stroke:;stroke-width:1\"/>\n",
              "        \n",
              "        \n",
              "        <path fill-rule=\"evenodd\" fill-opacity=\"1\" d=\"M 140.0 265.0  L 190.0 265.0  L 190.0 315.0  L 140.0 315.0  L 140.0 265.0 \" stroke-linecap=\"round\" style=\"stroke:brown;stroke-width:1\" fill=\"brown\" /><line x1=\"140.0\" y1=\"265.0\" x2=\"165.0\" y2=\"265.0\" stroke-linecap=\"round\" style=\"stroke:brown;stroke-width:1\" /><path fill-rule=\"evenodd\" fill-opacity=\"1\" d=\"M 165.0 265.0  L 265.0 265.0  L 200.721 188.396  L 250.721 188.396  L 186.442 111.792  L 236.442 111.792  L 172.163 35.188  L 165.0 265.0  L 65.0 265.0  L 129.279 188.396  L 79.279 188.396  L 143.558 111.792  L 93.558 111.792  L 157.837 35.188  L 172.163 35.188 \" stroke-linecap=\"round\" style=\"stroke:green;stroke-width:1\" fill=\"green\" /><path fill-rule=\"evenodd\" fill-opacity=\"1\" d=\"M 181.163 55.188  L 174.674 35.216  L 191.663 22.873  L 170.663 22.873  L 164.174 2.901  L 157.685 22.873  L 136.685 22.873  L 153.674 35.216  L 147.185 55.188  L 164.174 42.845  L 181.163 55.188 \" stroke-linecap=\"round\" style=\"stroke:yellow;stroke-width:1\" fill=\"yellow\" />\n",
              "        \n",
              "        \n",
              "        <g id=\"turtle\" visibility=\"visible\" transform=\"rotate(702.0,565.000000157774,-224.99999978923302) translate(565.000000157774, -224.99999978923302)\">\n",
              "<path style=\"stroke:yellow;fill-rule:evenodd;fill:yellow;fill-opacity:1;\" transform=\"skewX(0) scale(1,1)\" d=\"m 1.1536693,-18.56101 c -2.105469,1.167969 -3.203125,3.441407 -3.140625,6.5 l 0.011719,0.519532 -0.300782,-0.15625 c -1.308594,-0.671875 -2.828125,-0.824219 -4.378906,-0.429688 -1.9375,0.484375 -3.8906253,2.089844 -6.0117193,4.9257825 -1.332031,1.785156 -1.714843,2.644531 -1.351562,3.035156 l 0.113281,0.125 h 0.363281 c 0.71875,0 1.308594,-0.265625 4.6679693,-2.113282 1.199219,-0.660156 2.183594,-1.199218 2.191406,-1.199218 0.00781,0 -0.023437,0.089844 -0.074218,0.195312 -0.472657,1.058594 -1.046876,2.785156 -1.335938,4.042969 -1.054688,4.574219 -0.351562,8.453125 2.101562,11.582031 0.28125,0.355469 0.292969,0.253906 -0.097656,0.722656 -2.046875,2.4609375 -3.027344,4.8984375 -2.734375,6.8046875 0.050781,0.339844 0.042969,0.335938 0.679688,0.335938 2.023437,0 4.15625,-1.316407 6.21875,-3.835938 0.222656,-0.269531 0.191406,-0.261719 0.425781,-0.113281 0.730469,0.46875 2.460938,1.390625 2.613281,1.390625 0.160157,0 1.765625,-0.753906 2.652344,-1.246094 0.167969,-0.09375 0.308594,-0.164062 0.308594,-0.160156 0.066406,0.105468 0.761719,0.855468 1.085937,1.171875 1.613282,1.570312 3.339844,2.402343 5.3593747,2.570312 0.324219,0.02734 0.355469,0.0078 0.425781,-0.316406 0.375,-1.742187 -0.382812,-4.058594 -2.1445307,-6.5585935 l -0.320312,-0.457031 0.15625,-0.183594 c 3.2460927,-3.824218 3.4335927,-9.08593704 0.558593,-15.816406 l -0.050781,-0.125 1.7382807,0.859375 c 3.585938,1.773437 4.371094,2.097656 5.085938,2.097656 0.945312,0 0.75,-0.863281 -0.558594,-2.507812 C 11.458356,-11.838353 8.3333563,-13.268041 4.8607003,-11.721166 l -0.363281,0.164063 0.019531,-0.09375 c 0.121094,-0.550781 0.183594,-1.800781 0.121094,-2.378907 -0.203125,-1.867187 -1.035157,-3.199218 -2.695313,-4.308593 -0.523437,-0.351563 -0.546875,-0.355469 -0.789062,-0.222657\" />\n",
              "</g>\n",
              "      </svg>\n",
              "    "
            ]
          },
          "metadata": {}
        }
      ]
    },
    {
      "cell_type": "markdown",
      "source": [
        "## 問題3解説\n",
        "$改行おきに解説$\n",
        "\n",
        "$亀が動く場所を作る$\n",
        "$亀を作る$\n",
        "$クリスマスツリー幹を作る$\n",
        "$関数を定義して右側の部分(migigawa)を作る$\n",
        "$関数を定義して左側の部分(hidarigawa)を作る$\n",
        "$星を作る$\n",
        "\n",
        "古谷颯大\n"
      ],
      "metadata": {
        "id": "xTMQ7LZxMmTb"
      }
    },
    {
      "cell_type": "markdown",
      "source": [
        "---\n",
        "# 質問1（課題作成者（グループ）として回答，要署名）\n",
        "\n",
        "作成した問題をどのように考えて初級・中級・上級に割り当てたか，その理由を回答欄に記入すること．"
      ],
      "metadata": {
        "id": "ghA1unOrZPz8"
      }
    },
    {
      "cell_type": "markdown",
      "source": [
        "## 回答欄（質問1）\n",
        "$初級:シンプルな問題だから$\n",
        "$中級:グラフが次の段階だっと思ったから$\n",
        "$上級:再帰法を使うから$"
      ],
      "metadata": {
        "id": "aNL_ZQ68Zsh8"
      }
    },
    {
      "cell_type": "markdown",
      "source": [
        "---\n",
        "# 質問2（相手の課題への解答者（個人）として回答）\n",
        "\n",
        "問題1～3を解答して，勉強になった点や身に付いた点などを回答欄に記入すること．"
      ],
      "metadata": {
        "id": "w8gdv8SRorcA"
      }
    },
    {
      "cell_type": "markdown",
      "source": [
        "## 回答欄（質問2）\n",
        "\n",
        "上級の問題が再帰法の勉強になりました。"
      ],
      "metadata": {
        "id": "9Zqiw6TNpn3Q"
      }
    },
    {
      "cell_type": "markdown",
      "source": [
        "---\n",
        "# 注意事項　提出について\n",
        "以下の手順で提出すること．\n",
        "\n",
        "* メニューの「ファイル」-「ドライブにコピーを保存」を選択し，自分のGoogleドライブに課題を保存する．\n",
        "* メニューの「ファイル」-「ダウンロード」-「.ipynbファイルをダウンロード」を選択し，提出用ファイル(例えばProg2_GroupWork.ipynb)をダウンロードする．\n",
        "* ファイル名を次のように変更する．ファイル名にはプログラミングIIの週の数字を入れること．例えば，11週であれば以下のように指定する．\n",
        "1. 相手グループの問題を解答したファイルは，「(学籍番号)-Prog2_11_kadai.ipynb」\n",
        "2. 自分のグループで作成した問題と解説のファイルは「(学籍番号)-Prog2_11_lecture.ipynb」\n",
        "* WebClassの所定の場所で提出する．上記1と2のファイルの提出先が異なるので，注意すること．\n",
        "* 個人で提出する上記1，2以外に，グループの代表者のみが2のファイルをグループメンバーで１つにまとめたファイルを提出する必要があるので忘れないでください．ファイル名は(班番号)-Prog2_11_lecture.ipynbとする．例えば，12週の内容で10班A\n",
        "グループであれば，10A-Prog2_12_lecture.ipynbとする．"
      ],
      "metadata": {
        "id": "HHn948WCNHn3"
      }
    }
  ]
}